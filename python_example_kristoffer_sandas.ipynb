{
 "cells": [
  {
   "cell_type": "markdown",
   "id": "0b4f446f-374b-4617-bfd3-a6934be141f4",
   "metadata": {},
   "source": [
    "\n",
    "Kristoffer Sandås <br>\n",
    "b19krisa@student.his.se <br>\n",
    "3/5/2022\n",
    "\n",
    "This program contains a class called GeneAnalysis which perfoms analysis on gene expression data. It imports data from a file and contains various functions that can be used to produce information about the expression data. \n",
    "\n",
    "**The required input** is a csv file with a matrix of log-normalized gene expression values with the gene names on the first column, and a list defining which columns contain the control samples (group 0) and which contain the treated samples (group 1). For the function logFC the user can specify the log fold change threshold with which to filter the data, as well as specify if the output should be printed or not.\n",
    "\n",
    "**The outputs of the functions in the program are:** <br>\n",
    "*colsum* - a barplot of the summed values in each column <br>\n",
    "*boxplot* - boxplots for both groups, displaying the values for each column <br>\n",
    "*logFC* - a dataframe filtered by a log fold change threshold containing group mean values for each gene and    log fold changes  <br>\n",
    "*logFCplot* - a scatter plot of the mean values for both groups\n"
   ]
  },
  {
   "cell_type": "code",
   "execution_count": 1,
   "id": "ac8233ec-2eea-47cf-9d73-8ba9bd80a518",
   "metadata": {},
   "outputs": [],
   "source": [
    "import pandas as pd"
   ]
  },
  {
   "cell_type": "code",
   "execution_count": 2,
   "id": "58ad26b2-df54-455d-86c7-fe9c979a50d3",
   "metadata": {},
   "outputs": [],
   "source": [
    "class GeneAnalysis:\n",
    "    \"\"\"\n",
    "    Defines a class for gene analysis of data in a matrix imported from a file.\n",
    "    \"\"\"\n",
    "    VERSION = \"Version 1.0\"\n",
    "    \n",
    "    def __init__ (self, file, groups):\n",
    "        self.source_file = file\n",
    "        self.groups = groups\n",
    "        self.df = pd.read_csv(file, sep='\\t', index_col=0)\n",
    "        \n",
    "    def colsum(self):\n",
    "        \"\"\"\n",
    "        Sums the values of each column and displays a barplot of the results.\n",
    "        \"\"\"\n",
    "        sumd_cols = self.df.sum(axis=0)\n",
    "        ax = sumd_cols.plot.bar()\n",
    "        ax.set_ylabel('Summed expression values')\n",
    "        \n",
    "    def boxplot(self):\n",
    "        \"\"\"\n",
    "        Displays boxplots of the values in each column. Creates separate plots\n",
    "        for group 0 and group 1.\n",
    "        \"\"\"\n",
    "        index_0 = [index for(index,item) in enumerate(groups) if item ==0]\n",
    "        index_1 = [index for(index,item) in enumerate(groups) if item ==1]\n",
    "        control_df = self.df.iloc[:,index_0]\n",
    "        treated_df = self.df.iloc[:,index_1]\n",
    "        ax1 = control_df.plot.box(title=\"Group 0: controls\")\n",
    "        ax1.set_ylabel('Normalized expression level')\n",
    "        ax2 = treated_df.plot.box(title=\"Group 1: treated\",color='red')\n",
    "        ax2.set_ylabel('Normalized expression level')\n",
    "            \n",
    "    def logFC(self, threshold = 0.5, output = 0):\n",
    "        \"\"\"\n",
    "        Produces a dataframe with group mean values for each gene, and log\n",
    "        fold changes. Filters the genes included by a fold change threshold \n",
    "        that can be set by the user. \n",
    "        Output=1 can be set to display the results in a table.\n",
    "        \"\"\"\n",
    "        index_0 = [index for(index,item) in enumerate(groups) if item ==0]\n",
    "        index_1 = [index for(index,item) in enumerate(groups) if item ==1]\n",
    "        control_df = self.df.iloc[:,index_0]\n",
    "        treated_df = self.df.iloc[:,index_1]\n",
    "        mean_controls = control_df.mean(axis=1)\n",
    "        mean_treated = treated_df.mean(axis=1)\n",
    "        df_means_FC = pd.concat([mean_controls,mean_treated],axis=1)\n",
    "        df_means_FC.columns = ['Group 0: controls', 'Group 1: treated']\n",
    "        df_means_FC[\"Log Fold Change\"] = (df_means_FC['Group 1: treated']-df_means_FC['Group 0: controls'])\n",
    "        FC_fltr = (abs(df_means_FC[\"Log Fold Change\"])>threshold)\n",
    "        filt_df_means_FC = df_means_FC[FC_fltr]\n",
    "        if output == 1:\n",
    "            display(filt_df_means_FC)\n",
    "        return filt_df_means_FC\n",
    "    \n",
    "    def logFCplot(self):\n",
    "        \"\"\"\n",
    "        Prodcuces a scatter plot of the group means for genes, \n",
    "        using a log fold threshold of 0.5 to determine which genes are included\n",
    "        \"\"\"\n",
    "        df_means = data.logFC()\n",
    "        df_means.plot.scatter(title=\"Scatter plot of mean expression values\", x='Group 1: treated',y='Group 0: controls')\n",
    "        "
   ]
  },
  {
   "cell_type": "markdown",
   "id": "f8332126-e4db-4d9e-9551-5a0e52e60a2d",
   "metadata": {},
   "source": [
    "### Test of the program"
   ]
  },
  {
   "cell_type": "code",
   "execution_count": 3,
   "id": "c61f1500-e74e-4dff-bb7c-39288c6ebfc0",
   "metadata": {},
   "outputs": [],
   "source": [
    "groups=[0,0,0,0,0,0,1,1,1,1,1,1]\n",
    "data=GeneAnalysis('AmygdalaExpression.txt',groups)"
   ]
  },
  {
   "cell_type": "code",
   "execution_count": 4,
   "id": "1753ab21-569e-46cf-b485-139b279431b0",
   "metadata": {},
   "outputs": [
    {
     "data": {
      "text/plain": [
       "'Version 1.0'"
      ]
     },
     "execution_count": 4,
     "metadata": {},
     "output_type": "execute_result"
    }
   ],
   "source": [
    "data.VERSION"
   ]
  },
  {
   "cell_type": "code",
   "execution_count": 5,
   "id": "e175c19b-c79a-4424-9592-45985f2c7d9f",
   "metadata": {},
   "outputs": [
    {
     "data": {
      "text/html": [
       "<div>\n",
       "<style scoped>\n",
       "    .dataframe tbody tr th:only-of-type {\n",
       "        vertical-align: middle;\n",
       "    }\n",
       "\n",
       "    .dataframe tbody tr th {\n",
       "        vertical-align: top;\n",
       "    }\n",
       "\n",
       "    .dataframe thead th {\n",
       "        text-align: right;\n",
       "    }\n",
       "</style>\n",
       "<table border=\"1\" class=\"dataframe\">\n",
       "  <thead>\n",
       "    <tr style=\"text-align: right;\">\n",
       "      <th></th>\n",
       "      <th>ALFM_1</th>\n",
       "      <th>ALFM_2</th>\n",
       "      <th>ALFM_3</th>\n",
       "      <th>ALFM_4</th>\n",
       "      <th>ALFM_5</th>\n",
       "      <th>ALFM_6</th>\n",
       "      <th>AHFM_1</th>\n",
       "      <th>AHFM_2</th>\n",
       "      <th>AHFM_3</th>\n",
       "      <th>AHFM_4</th>\n",
       "      <th>AHFM_5</th>\n",
       "      <th>AHFM_6</th>\n",
       "    </tr>\n",
       "    <tr>\n",
       "      <th>GeneID</th>\n",
       "      <th></th>\n",
       "      <th></th>\n",
       "      <th></th>\n",
       "      <th></th>\n",
       "      <th></th>\n",
       "      <th></th>\n",
       "      <th></th>\n",
       "      <th></th>\n",
       "      <th></th>\n",
       "      <th></th>\n",
       "      <th></th>\n",
       "      <th></th>\n",
       "    </tr>\n",
       "  </thead>\n",
       "  <tbody>\n",
       "    <tr>\n",
       "      <th>1415670_at</th>\n",
       "      <td>9.772666</td>\n",
       "      <td>9.550926</td>\n",
       "      <td>9.710143</td>\n",
       "      <td>9.563991</td>\n",
       "      <td>9.592578</td>\n",
       "      <td>9.639084</td>\n",
       "      <td>9.390119</td>\n",
       "      <td>9.467353</td>\n",
       "      <td>9.528933</td>\n",
       "      <td>9.466465</td>\n",
       "      <td>9.558100</td>\n",
       "      <td>9.520137</td>\n",
       "    </tr>\n",
       "    <tr>\n",
       "      <th>1415671_at</th>\n",
       "      <td>11.304809</td>\n",
       "      <td>11.186622</td>\n",
       "      <td>11.216187</td>\n",
       "      <td>11.225793</td>\n",
       "      <td>11.321706</td>\n",
       "      <td>11.224862</td>\n",
       "      <td>11.486578</td>\n",
       "      <td>11.369749</td>\n",
       "      <td>11.299941</td>\n",
       "      <td>11.298115</td>\n",
       "      <td>11.276763</td>\n",
       "      <td>11.244590</td>\n",
       "    </tr>\n",
       "    <tr>\n",
       "      <th>1415672_at</th>\n",
       "      <td>10.474949</td>\n",
       "      <td>10.471711</td>\n",
       "      <td>10.575234</td>\n",
       "      <td>10.564251</td>\n",
       "      <td>10.631072</td>\n",
       "      <td>10.470185</td>\n",
       "      <td>10.399871</td>\n",
       "      <td>10.465242</td>\n",
       "      <td>10.657146</td>\n",
       "      <td>10.602973</td>\n",
       "      <td>10.701504</td>\n",
       "      <td>10.601184</td>\n",
       "    </tr>\n",
       "    <tr>\n",
       "      <th>1415673_at</th>\n",
       "      <td>8.061984</td>\n",
       "      <td>8.014411</td>\n",
       "      <td>7.792536</td>\n",
       "      <td>7.893541</td>\n",
       "      <td>7.788006</td>\n",
       "      <td>7.964887</td>\n",
       "      <td>7.951057</td>\n",
       "      <td>8.035568</td>\n",
       "      <td>8.061707</td>\n",
       "      <td>7.742683</td>\n",
       "      <td>7.959378</td>\n",
       "      <td>7.997206</td>\n",
       "    </tr>\n",
       "    <tr>\n",
       "      <th>1415674_a_at</th>\n",
       "      <td>8.977682</td>\n",
       "      <td>9.073804</td>\n",
       "      <td>9.052459</td>\n",
       "      <td>9.075131</td>\n",
       "      <td>8.959626</td>\n",
       "      <td>8.997847</td>\n",
       "      <td>8.966357</td>\n",
       "      <td>8.997065</td>\n",
       "      <td>8.999621</td>\n",
       "      <td>9.049787</td>\n",
       "      <td>8.881989</td>\n",
       "      <td>9.008911</td>\n",
       "    </tr>\n",
       "    <tr>\n",
       "      <th>...</th>\n",
       "      <td>...</td>\n",
       "      <td>...</td>\n",
       "      <td>...</td>\n",
       "      <td>...</td>\n",
       "      <td>...</td>\n",
       "      <td>...</td>\n",
       "      <td>...</td>\n",
       "      <td>...</td>\n",
       "      <td>...</td>\n",
       "      <td>...</td>\n",
       "      <td>...</td>\n",
       "      <td>...</td>\n",
       "    </tr>\n",
       "    <tr>\n",
       "      <th>1460673_at</th>\n",
       "      <td>2.438585</td>\n",
       "      <td>2.438585</td>\n",
       "      <td>2.436333</td>\n",
       "      <td>2.438585</td>\n",
       "      <td>2.438585</td>\n",
       "      <td>2.438585</td>\n",
       "      <td>2.438585</td>\n",
       "      <td>2.670819</td>\n",
       "      <td>2.749886</td>\n",
       "      <td>2.438585</td>\n",
       "      <td>2.438585</td>\n",
       "      <td>2.438585</td>\n",
       "    </tr>\n",
       "    <tr>\n",
       "      <th>1460710_at</th>\n",
       "      <td>7.433284</td>\n",
       "      <td>6.621493</td>\n",
       "      <td>7.341880</td>\n",
       "      <td>6.328008</td>\n",
       "      <td>5.736528</td>\n",
       "      <td>7.300172</td>\n",
       "      <td>7.372820</td>\n",
       "      <td>6.922253</td>\n",
       "      <td>6.807967</td>\n",
       "      <td>4.982311</td>\n",
       "      <td>6.134576</td>\n",
       "      <td>6.340030</td>\n",
       "    </tr>\n",
       "    <tr>\n",
       "      <th>1460729_at</th>\n",
       "      <td>4.461766</td>\n",
       "      <td>4.194894</td>\n",
       "      <td>3.774756</td>\n",
       "      <td>4.031022</td>\n",
       "      <td>4.453281</td>\n",
       "      <td>4.373764</td>\n",
       "      <td>3.741725</td>\n",
       "      <td>3.717131</td>\n",
       "      <td>4.447078</td>\n",
       "      <td>4.521372</td>\n",
       "      <td>4.303325</td>\n",
       "      <td>4.411584</td>\n",
       "    </tr>\n",
       "    <tr>\n",
       "      <th>AFFX-DapX-M_at</th>\n",
       "      <td>3.202265</td>\n",
       "      <td>3.459002</td>\n",
       "      <td>10.961125</td>\n",
       "      <td>3.389101</td>\n",
       "      <td>3.579484</td>\n",
       "      <td>3.589030</td>\n",
       "      <td>3.046310</td>\n",
       "      <td>2.450044</td>\n",
       "      <td>2.728527</td>\n",
       "      <td>3.872380</td>\n",
       "      <td>3.457542</td>\n",
       "      <td>3.510756</td>\n",
       "    </tr>\n",
       "    <tr>\n",
       "      <th>AFFX-r2-Bs-dap-M_at</th>\n",
       "      <td>3.243652</td>\n",
       "      <td>3.631928</td>\n",
       "      <td>11.414628</td>\n",
       "      <td>4.177503</td>\n",
       "      <td>3.251879</td>\n",
       "      <td>3.305716</td>\n",
       "      <td>4.117876</td>\n",
       "      <td>3.415272</td>\n",
       "      <td>3.375607</td>\n",
       "      <td>4.475422</td>\n",
       "      <td>4.127390</td>\n",
       "      <td>4.177503</td>\n",
       "    </tr>\n",
       "  </tbody>\n",
       "</table>\n",
       "<p>20756 rows × 12 columns</p>\n",
       "</div>"
      ],
      "text/plain": [
       "                        ALFM_1     ALFM_2     ALFM_3     ALFM_4     ALFM_5  \\\n",
       "GeneID                                                                       \n",
       "1415670_at            9.772666   9.550926   9.710143   9.563991   9.592578   \n",
       "1415671_at           11.304809  11.186622  11.216187  11.225793  11.321706   \n",
       "1415672_at           10.474949  10.471711  10.575234  10.564251  10.631072   \n",
       "1415673_at            8.061984   8.014411   7.792536   7.893541   7.788006   \n",
       "1415674_a_at          8.977682   9.073804   9.052459   9.075131   8.959626   \n",
       "...                        ...        ...        ...        ...        ...   \n",
       "1460673_at            2.438585   2.438585   2.436333   2.438585   2.438585   \n",
       "1460710_at            7.433284   6.621493   7.341880   6.328008   5.736528   \n",
       "1460729_at            4.461766   4.194894   3.774756   4.031022   4.453281   \n",
       "AFFX-DapX-M_at        3.202265   3.459002  10.961125   3.389101   3.579484   \n",
       "AFFX-r2-Bs-dap-M_at   3.243652   3.631928  11.414628   4.177503   3.251879   \n",
       "\n",
       "                        ALFM_6     AHFM_1     AHFM_2     AHFM_3     AHFM_4  \\\n",
       "GeneID                                                                       \n",
       "1415670_at            9.639084   9.390119   9.467353   9.528933   9.466465   \n",
       "1415671_at           11.224862  11.486578  11.369749  11.299941  11.298115   \n",
       "1415672_at           10.470185  10.399871  10.465242  10.657146  10.602973   \n",
       "1415673_at            7.964887   7.951057   8.035568   8.061707   7.742683   \n",
       "1415674_a_at          8.997847   8.966357   8.997065   8.999621   9.049787   \n",
       "...                        ...        ...        ...        ...        ...   \n",
       "1460673_at            2.438585   2.438585   2.670819   2.749886   2.438585   \n",
       "1460710_at            7.300172   7.372820   6.922253   6.807967   4.982311   \n",
       "1460729_at            4.373764   3.741725   3.717131   4.447078   4.521372   \n",
       "AFFX-DapX-M_at        3.589030   3.046310   2.450044   2.728527   3.872380   \n",
       "AFFX-r2-Bs-dap-M_at   3.305716   4.117876   3.415272   3.375607   4.475422   \n",
       "\n",
       "                        AHFM_5     AHFM_6  \n",
       "GeneID                                     \n",
       "1415670_at            9.558100   9.520137  \n",
       "1415671_at           11.276763  11.244590  \n",
       "1415672_at           10.701504  10.601184  \n",
       "1415673_at            7.959378   7.997206  \n",
       "1415674_a_at          8.881989   9.008911  \n",
       "...                        ...        ...  \n",
       "1460673_at            2.438585   2.438585  \n",
       "1460710_at            6.134576   6.340030  \n",
       "1460729_at            4.303325   4.411584  \n",
       "AFFX-DapX-M_at        3.457542   3.510756  \n",
       "AFFX-r2-Bs-dap-M_at   4.127390   4.177503  \n",
       "\n",
       "[20756 rows x 12 columns]"
      ]
     },
     "execution_count": 5,
     "metadata": {},
     "output_type": "execute_result"
    }
   ],
   "source": [
    "data.df"
   ]
  },
  {
   "cell_type": "code",
   "execution_count": 6,
   "id": "b69710de-844e-441d-bc27-d61cc16fcec7",
   "metadata": {},
   "outputs": [
    {
     "data": {
      "text/plain": [
       "'AmygdalaExpression.txt'"
      ]
     },
     "execution_count": 6,
     "metadata": {},
     "output_type": "execute_result"
    }
   ],
   "source": [
    "data.source_file"
   ]
  },
  {
   "cell_type": "code",
   "execution_count": 7,
   "id": "77350906-acc1-4f68-adea-dc903e0c486f",
   "metadata": {},
   "outputs": [
    {
     "data": {
      "text/plain": [
       "[0, 0, 0, 0, 0, 0, 1, 1, 1, 1, 1, 1]"
      ]
     },
     "execution_count": 7,
     "metadata": {},
     "output_type": "execute_result"
    }
   ],
   "source": [
    "data.groups"
   ]
  },
  {
   "cell_type": "code",
   "execution_count": 8,
   "id": "f991c9ef-c157-461c-9655-f623627287bd",
   "metadata": {},
   "outputs": [
    {
     "data": {
      "image/png": "[encoded data removed]",
      "text/plain": [
       "<Figure size 432x288 with 1 Axes>"
      ]
     },
     "metadata": {
      "needs_background": "light"
     },
     "output_type": "display_data"
    }
   ],
   "source": [
    "data.colsum()"
   ]
  },
  {
   "cell_type": "code",
   "execution_count": 9,
   "id": "59f7c9a4-ddc7-4dbb-8259-1fca6bdbb6ab",
   "metadata": {},
   "outputs": [
    {
     "data": {
      "image/png": "[encoded data removed]",
      "text/plain": [
       "<Figure size 432x288 with 1 Axes>"
      ]
     },
     "metadata": {
      "needs_background": "light"
     },
     "output_type": "display_data"
    },
    {
     "data": {
      "image/png": "[encoded data removed]",
      "text/plain": [
       "<Figure size 432x288 with 1 Axes>"
      ]
     },
     "metadata": {
      "needs_background": "light"
     },
     "output_type": "display_data"
    }
   ],
   "source": [
    "data.boxplot()"
   ]
  },
  {
   "cell_type": "code",
   "execution_count": 10,
   "id": "7522a120-4f48-4910-bc40-c7789141ac84",
   "metadata": {},
   "outputs": [],
   "source": [
    "filt_data = data.logFC()"
   ]
  },
  {
   "cell_type": "code",
   "execution_count": 11,
   "id": "0ee73657-f31f-4877-8991-62a7604dcd97",
   "metadata": {},
   "outputs": [
    {
     "data": {
      "text/plain": [
       "pandas.core.frame.DataFrame"
      ]
     },
     "execution_count": 11,
     "metadata": {},
     "output_type": "execute_result"
    }
   ],
   "source": [
    "type(filt_data)"
   ]
  },
  {
   "cell_type": "code",
   "execution_count": 12,
   "id": "156ca252-ca1f-4db7-84a5-8cf02491edb5",
   "metadata": {},
   "outputs": [
    {
     "data": {
      "text/html": [
       "<div>\n",
       "<style scoped>\n",
       "    .dataframe tbody tr th:only-of-type {\n",
       "        vertical-align: middle;\n",
       "    }\n",
       "\n",
       "    .dataframe tbody tr th {\n",
       "        vertical-align: top;\n",
       "    }\n",
       "\n",
       "    .dataframe thead th {\n",
       "        text-align: right;\n",
       "    }\n",
       "</style>\n",
       "<table border=\"1\" class=\"dataframe\">\n",
       "  <thead>\n",
       "    <tr style=\"text-align: right;\">\n",
       "      <th></th>\n",
       "      <th>Group 0: controls</th>\n",
       "      <th>Group 1: treated</th>\n",
       "      <th>Log Fold Change</th>\n",
       "    </tr>\n",
       "    <tr>\n",
       "      <th>GeneID</th>\n",
       "      <th></th>\n",
       "      <th></th>\n",
       "      <th></th>\n",
       "    </tr>\n",
       "  </thead>\n",
       "  <tbody>\n",
       "    <tr>\n",
       "      <th>1417462_at</th>\n",
       "      <td>9.883192</td>\n",
       "      <td>7.238491</td>\n",
       "      <td>-2.644701</td>\n",
       "    </tr>\n",
       "    <tr>\n",
       "      <th>1440455_at</th>\n",
       "      <td>6.488963</td>\n",
       "      <td>8.719694</td>\n",
       "      <td>2.230730</td>\n",
       "    </tr>\n",
       "    <tr>\n",
       "      <th>1431708_a_at</th>\n",
       "      <td>5.104721</td>\n",
       "      <td>7.524498</td>\n",
       "      <td>2.419777</td>\n",
       "    </tr>\n",
       "    <tr>\n",
       "      <th>1432198_at</th>\n",
       "      <td>9.717988</td>\n",
       "      <td>5.338488</td>\n",
       "      <td>-4.379500</td>\n",
       "    </tr>\n",
       "    <tr>\n",
       "      <th>1434171_at</th>\n",
       "      <td>5.904111</td>\n",
       "      <td>3.545376</td>\n",
       "      <td>-2.358736</td>\n",
       "    </tr>\n",
       "    <tr>\n",
       "      <th>1441573_at</th>\n",
       "      <td>4.641492</td>\n",
       "      <td>6.672037</td>\n",
       "      <td>2.030545</td>\n",
       "    </tr>\n",
       "    <tr>\n",
       "      <th>1444198_at</th>\n",
       "      <td>4.993992</td>\n",
       "      <td>7.061208</td>\n",
       "      <td>2.067217</td>\n",
       "    </tr>\n",
       "  </tbody>\n",
       "</table>\n",
       "</div>"
      ],
      "text/plain": [
       "              Group 0: controls  Group 1: treated  Log Fold Change\n",
       "GeneID                                                            \n",
       "1417462_at             9.883192          7.238491        -2.644701\n",
       "1440455_at             6.488963          8.719694         2.230730\n",
       "1431708_a_at           5.104721          7.524498         2.419777\n",
       "1432198_at             9.717988          5.338488        -4.379500\n",
       "1434171_at             5.904111          3.545376        -2.358736\n",
       "1441573_at             4.641492          6.672037         2.030545\n",
       "1444198_at             4.993992          7.061208         2.067217"
      ]
     },
     "metadata": {},
     "output_type": "display_data"
    }
   ],
   "source": [
    "filt_data_2 = data.logFC(threshold=2, output=1)"
   ]
  },
  {
   "cell_type": "code",
   "execution_count": 13,
   "id": "b731a9b2-8f66-460a-becf-cd54e7dcdf22",
   "metadata": {},
   "outputs": [
    {
     "data": {
      "image/png": "[encoded data removed]",
      "text/plain": [
       "<Figure size 432x288 with 1 Axes>"
      ]
     },
     "metadata": {
      "needs_background": "light"
     },
     "output_type": "display_data"
    }
   ],
   "source": [
    "data.logFCplot()"
   ]
  },
  {
   "cell_type": "code",
   "execution_count": 14,
   "id": "78017c78-3ed8-4d32-9a6c-9d04b37b5f99",
   "metadata": {},
   "outputs": [
    {
     "name": "stderr",
     "output_type": "stream",
     "text": [
      "[NbConvertApp] Converting notebook python_example_kristoffer_sandas.ipynb to html\n",
      "[NbConvertApp] Writing 663847 bytes to python_example_kristoffer_sandas.html\n"
     ]
    }
   ],
   "source": [
    "!jupyter nbconvert --to html python_example_kristoffer_sandas.ipynb"
   ]
  }
 ],
 "metadata": {
  "kernelspec": {
   "display_name": "Python 3 (ipykernel)",
   "language": "python",
   "name": "python3"
  },
  "language_info": {
   "codemirror_mode": {
    "name": "ipython",
    "version": 3
   },
   "file_extension": ".py",
   "mimetype": "text/x-python",
   "name": "python",
   "nbconvert_exporter": "python",
   "pygments_lexer": "ipython3",
   "version": "3.9.12"
  }
 },
 "nbformat": 4,
 "nbformat_minor": 5
}
